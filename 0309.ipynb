{
  "nbformat": 4,
  "nbformat_minor": 0,
  "metadata": {
    "colab": {
      "name": "0309.ipynb",
      "provenance": [],
      "collapsed_sections": [],
      "include_colab_link": true
    },
    "kernelspec": {
      "name": "ir",
      "display_name": "R"
    }
  },
  "cells": [
    {
      "cell_type": "markdown",
      "metadata": {
        "id": "view-in-github",
        "colab_type": "text"
      },
      "source": [
        "<a href=\"https://colab.research.google.com/github/tai-yuan0624/bigdata/blob/main/0309.ipynb\" target=\"_parent\"><img src=\"https://colab.research.google.com/assets/colab-badge.svg\" alt=\"Open In Colab\"/></a>"
      ]
    },
    {
      "cell_type": "code",
      "metadata": {
        "id": "7tcJNrfBD98M"
      },
      "source": [
        "a<- 5\r\n",
        "b<- 3.8\r\n",
        "c<- -1"
      ],
      "execution_count": 7,
      "outputs": []
    },
    {
      "cell_type": "code",
      "metadata": {
        "colab": {
          "base_uri": "https://localhost:8080/"
        },
        "id": "2QQtUMx3EJIL",
        "outputId": "32cff200-13ed-40ac-dcdc-bacc95f904cf"
      },
      "source": [
        "str(a)\r\n",
        "str(b)\r\n",
        "str(c)"
      ],
      "execution_count": 8,
      "outputs": [
        {
          "output_type": "stream",
          "text": [
            " num 5\n",
            " num 3.8\n",
            " num -1\n"
          ],
          "name": "stdout"
        }
      ]
    },
    {
      "cell_type": "code",
      "metadata": {
        "colab": {
          "base_uri": "https://localhost:8080/",
          "height": 34
        },
        "id": "tarUmfB7EmrK",
        "outputId": "58b2c704-6d85-48df-a60c-ee9dd65ae522"
      },
      "source": [
        "is.numeric(a)"
      ],
      "execution_count": 9,
      "outputs": [
        {
          "output_type": "display_data",
          "data": {
            "text/plain": [
              "[1] TRUE"
            ],
            "text/latex": "TRUE",
            "text/markdown": "TRUE",
            "text/html": [
              "TRUE"
            ]
          },
          "metadata": {
            "tags": []
          }
        }
      ]
    },
    {
      "cell_type": "code",
      "metadata": {
        "id": "D60KQVkJJNro"
      },
      "source": [
        "d<-\"Hello\"\r\n",
        "e<-\"Hi\""
      ],
      "execution_count": 11,
      "outputs": []
    },
    {
      "cell_type": "code",
      "metadata": {
        "colab": {
          "base_uri": "https://localhost:8080/"
        },
        "id": "VJzHfIGdJfsX",
        "outputId": "0b54afad-b994-42fc-b2be-a91f7c8aa64d"
      },
      "source": [
        "str(d)\r\n",
        "str(e)"
      ],
      "execution_count": 12,
      "outputs": [
        {
          "output_type": "stream",
          "text": [
            " chr \"Hello\"\n",
            " chr \"Hi\"\n"
          ],
          "name": "stdout"
        }
      ]
    },
    {
      "cell_type": "code",
      "metadata": {
        "id": "YNgvsehWKOjw"
      },
      "source": [
        "f<- c(1,2,3,4,5,6,7,8,9)\r\n",
        "e<- c(\"牛奶\",\"黑巧\",\"甘草\",\"咖啡\")"
      ],
      "execution_count": 16,
      "outputs": []
    },
    {
      "cell_type": "code",
      "metadata": {
        "colab": {
          "base_uri": "https://localhost:8080/",
          "height": 51
        },
        "id": "gAmau-r1KYYo",
        "outputId": "b6fd4647-93a4-494c-9e07-9c1465378c19"
      },
      "source": [
        "f[4]\r\n",
        "e[2]"
      ],
      "execution_count": 17,
      "outputs": [
        {
          "output_type": "display_data",
          "data": {
            "text/plain": [
              "[1] 4"
            ],
            "text/latex": "4",
            "text/markdown": "4",
            "text/html": [
              "4"
            ]
          },
          "metadata": {
            "tags": []
          }
        },
        {
          "output_type": "display_data",
          "data": {
            "text/plain": [
              "[1] \"黑巧\""
            ],
            "text/latex": "'黑巧'",
            "text/markdown": "'黑巧'",
            "text/html": [
              "'黑巧'"
            ]
          },
          "metadata": {
            "tags": []
          }
        }
      ]
    },
    {
      "cell_type": "code",
      "metadata": {
        "id": "ny8vAjTrM-9Y"
      },
      "source": [
        "h<- c(1,2,8,10,5)\r\n",
        "i<- c(2,5,5,9,4)"
      ],
      "execution_count": 20,
      "outputs": []
    },
    {
      "cell_type": "code",
      "metadata": {
        "colab": {
          "base_uri": "https://localhost:8080/",
          "height": 34
        },
        "id": "gIuZQ-t5NO_H",
        "outputId": "4a802b5d-a392-4716-d31f-27940deb4e42"
      },
      "source": [
        "h*i"
      ],
      "execution_count": 21,
      "outputs": [
        {
          "output_type": "display_data",
          "data": {
            "text/plain": [
              "[1]  2 10 40 90 20"
            ],
            "text/latex": "\\begin{enumerate*}\n\\item 2\n\\item 10\n\\item 40\n\\item 90\n\\item 20\n\\end{enumerate*}\n",
            "text/markdown": "1. 2\n2. 10\n3. 40\n4. 90\n5. 20\n\n\n",
            "text/html": [
              "<style>\n",
              ".list-inline {list-style: none; margin:0; padding: 0}\n",
              ".list-inline>li {display: inline-block}\n",
              ".list-inline>li:not(:last-child)::after {content: \"\\00b7\"; padding: 0 .5ex}\n",
              "</style>\n",
              "<ol class=list-inline><li>2</li><li>10</li><li>40</li><li>90</li><li>20</li></ol>\n"
            ]
          },
          "metadata": {
            "tags": []
          }
        }
      ]
    },
    {
      "cell_type": "code",
      "metadata": {
        "colab": {
          "base_uri": "https://localhost:8080/",
          "height": 34
        },
        "id": "EdUtlBV5Nlrw",
        "outputId": "f9703f97-e8c4-4889-9d94-cb9df901a4de"
      },
      "source": [
        "h^2"
      ],
      "execution_count": 23,
      "outputs": [
        {
          "output_type": "display_data",
          "data": {
            "text/plain": [
              "[1]   1   4  64 100  25"
            ],
            "text/latex": "\\begin{enumerate*}\n\\item 1\n\\item 4\n\\item 64\n\\item 100\n\\item 25\n\\end{enumerate*}\n",
            "text/markdown": "1. 1\n2. 4\n3. 64\n4. 100\n5. 25\n\n\n",
            "text/html": [
              "<style>\n",
              ".list-inline {list-style: none; margin:0; padding: 0}\n",
              ".list-inline>li {display: inline-block}\n",
              ".list-inline>li:not(:last-child)::after {content: \"\\00b7\"; padding: 0 .5ex}\n",
              "</style>\n",
              "<ol class=list-inline><li>1</li><li>4</li><li>64</li><li>100</li><li>25</li></ol>\n"
            ]
          },
          "metadata": {
            "tags": []
          }
        }
      ]
    },
    {
      "cell_type": "code",
      "metadata": {
        "colab": {
          "base_uri": "https://localhost:8080/",
          "height": 34
        },
        "id": "MSlXAs88OWqH",
        "outputId": "4067e8e1-bf3f-481c-df63-665ea3e677e5"
      },
      "source": [
        "i>4"
      ],
      "execution_count": 24,
      "outputs": [
        {
          "output_type": "display_data",
          "data": {
            "text/plain": [
              "[1] FALSE  TRUE  TRUE  TRUE FALSE"
            ],
            "text/latex": "\\begin{enumerate*}\n\\item FALSE\n\\item TRUE\n\\item TRUE\n\\item TRUE\n\\item FALSE\n\\end{enumerate*}\n",
            "text/markdown": "1. FALSE\n2. TRUE\n3. TRUE\n4. TRUE\n5. FALSE\n\n\n",
            "text/html": [
              "<style>\n",
              ".list-inline {list-style: none; margin:0; padding: 0}\n",
              ".list-inline>li {display: inline-block}\n",
              ".list-inline>li:not(:last-child)::after {content: \"\\00b7\"; padding: 0 .5ex}\n",
              "</style>\n",
              "<ol class=list-inline><li>FALSE</li><li>TRUE</li><li>TRUE</li><li>TRUE</li><li>FALSE</li></ol>\n"
            ]
          },
          "metadata": {
            "tags": []
          }
        }
      ]
    },
    {
      "cell_type": "code",
      "metadata": {
        "id": "QXOB4XiSO-MA"
      },
      "source": [
        "gender<- c(\"男\",\"女\",\"男\",\"男\",\"女\")"
      ],
      "execution_count": 25,
      "outputs": []
    },
    {
      "cell_type": "code",
      "metadata": {
        "colab": {
          "base_uri": "https://localhost:8080/"
        },
        "id": "S1IpDjxtPPoJ",
        "outputId": "c48bdd82-fa6f-4a96-922f-237e79555bec"
      },
      "source": [
        "str(gender)"
      ],
      "execution_count": 26,
      "outputs": [
        {
          "output_type": "stream",
          "text": [
            " chr [1:5] \"男\" \"女\" \"男\" \"男\" \"女\"\n"
          ],
          "name": "stdout"
        }
      ]
    },
    {
      "cell_type": "code",
      "metadata": {
        "id": "Vw6--LoaPYzZ"
      },
      "source": [
        "gender<- factor(gender)"
      ],
      "execution_count": 27,
      "outputs": []
    },
    {
      "cell_type": "code",
      "metadata": {
        "colab": {
          "base_uri": "https://localhost:8080/",
          "height": 51
        },
        "id": "ZNQP5meKPiZQ",
        "outputId": "ad6fe37b-c6f0-4a78-e3bf-4ceebd1c82f1"
      },
      "source": [
        "gender"
      ],
      "execution_count": 28,
      "outputs": [
        {
          "output_type": "display_data",
          "data": {
            "text/plain": [
              "[1] 男 女 男 男 女\n",
              "Levels: 女 男"
            ],
            "text/latex": "\\begin{enumerate*}\n\\item 男\n\\item 女\n\\item 男\n\\item 男\n\\item 女\n\\end{enumerate*}\n\n\\emph{Levels}: \\begin{enumerate*}\n\\item '女'\n\\item '男'\n\\end{enumerate*}\n",
            "text/markdown": "1. 男\n2. 女\n3. 男\n4. 男\n5. 女\n\n\n\n**Levels**: 1. '女'\n2. '男'\n\n\n",
            "text/html": [
              "<style>\n",
              ".list-inline {list-style: none; margin:0; padding: 0}\n",
              ".list-inline>li {display: inline-block}\n",
              ".list-inline>li:not(:last-child)::after {content: \"\\00b7\"; padding: 0 .5ex}\n",
              "</style>\n",
              "<ol class=list-inline><li>男</li><li>女</li><li>男</li><li>男</li><li>女</li></ol>\n",
              "\n",
              "<details>\n",
              "\t<summary style=display:list-item;cursor:pointer>\n",
              "\t\t<strong>Levels</strong>:\n",
              "\t</summary>\n",
              "\t<style>\n",
              "\t.list-inline {list-style: none; margin:0; padding: 0}\n",
              "\t.list-inline>li {display: inline-block}\n",
              "\t.list-inline>li:not(:last-child)::after {content: \"\\00b7\"; padding: 0 .5ex}\n",
              "\t</style>\n",
              "\t<ol class=list-inline><li>'女'</li><li>'男'</li></ol>\n",
              "</details>"
            ]
          },
          "metadata": {
            "tags": []
          }
        }
      ]
    },
    {
      "cell_type": "code",
      "metadata": {
        "id": "OSmZK4tgQCTS"
      },
      "source": [
        "j<- matrix(c(1:6), nrow=2, ncol=3)"
      ],
      "execution_count": 29,
      "outputs": []
    },
    {
      "cell_type": "code",
      "metadata": {
        "colab": {
          "base_uri": "https://localhost:8080/",
          "height": 130
        },
        "id": "y-DAQ-16QjHQ",
        "outputId": "f0596d34-ae5e-4cc7-f2cc-fd02049b6cb1"
      },
      "source": [
        "j"
      ],
      "execution_count": 30,
      "outputs": [
        {
          "output_type": "display_data",
          "data": {
            "text/plain": [
              "     [,1] [,2] [,3]\n",
              "[1,] 1    3    5   \n",
              "[2,] 2    4    6   "
            ],
            "text/latex": "A matrix: 2 × 3 of type int\n\\begin{tabular}{lll}\n\t 1 & 3 & 5\\\\\n\t 2 & 4 & 6\\\\\n\\end{tabular}\n",
            "text/markdown": "\nA matrix: 2 × 3 of type int\n\n| 1 | 3 | 5 |\n| 2 | 4 | 6 |\n\n",
            "text/html": [
              "<table class=\"dataframe\">\n",
              "<caption>A matrix: 2 × 3 of type int</caption>\n",
              "<tbody>\n",
              "\t<tr><td>1</td><td>3</td><td>5</td></tr>\n",
              "\t<tr><td>2</td><td>4</td><td>6</td></tr>\n",
              "</tbody>\n",
              "</table>\n"
            ]
          },
          "metadata": {
            "tags": []
          }
        }
      ]
    },
    {
      "cell_type": "code",
      "metadata": {
        "colab": {
          "base_uri": "https://localhost:8080/",
          "height": 34
        },
        "id": "GLG2ZjyERTpg",
        "outputId": "c8ef4b93-16a8-4208-f27c-e76a942be92b"
      },
      "source": [
        "j[1,3]"
      ],
      "execution_count": 31,
      "outputs": [
        {
          "output_type": "display_data",
          "data": {
            "text/plain": [
              "[1] 5"
            ],
            "text/latex": "5",
            "text/markdown": "5",
            "text/html": [
              "5"
            ]
          },
          "metadata": {
            "tags": []
          }
        }
      ]
    },
    {
      "cell_type": "code",
      "metadata": {
        "colab": {
          "base_uri": "https://localhost:8080/",
          "height": 34
        },
        "id": "jpj20J0wRY1Q",
        "outputId": "34369af0-fafd-4861-c9a9-c52471a96262"
      },
      "source": [
        "j[,2]"
      ],
      "execution_count": 32,
      "outputs": [
        {
          "output_type": "display_data",
          "data": {
            "text/plain": [
              "[1] 3 4"
            ],
            "text/latex": "\\begin{enumerate*}\n\\item 3\n\\item 4\n\\end{enumerate*}\n",
            "text/markdown": "1. 3\n2. 4\n\n\n",
            "text/html": [
              "<style>\n",
              ".list-inline {list-style: none; margin:0; padding: 0}\n",
              ".list-inline>li {display: inline-block}\n",
              ".list-inline>li:not(:last-child)::after {content: \"\\00b7\"; padding: 0 .5ex}\n",
              "</style>\n",
              "<ol class=list-inline><li>3</li><li>4</li></ol>\n"
            ]
          },
          "metadata": {
            "tags": []
          }
        }
      ]
    },
    {
      "cell_type": "code",
      "metadata": {
        "colab": {
          "base_uri": "https://localhost:8080/"
        },
        "id": "06_s-kPAU-6Q",
        "outputId": "e07faaef-481c-420e-8007-8ad6493a673a"
      },
      "source": [
        "install.packages(\"SportsAnalytics\")"
      ],
      "execution_count": 38,
      "outputs": [
        {
          "output_type": "stream",
          "text": [
            "Installing package into ‘/usr/local/lib/R/site-library’\n",
            "(as ‘lib’ is unspecified)\n",
            "\n"
          ],
          "name": "stderr"
        }
      ]
    },
    {
      "cell_type": "code",
      "metadata": {
        "id": "rprSA4UPSr-D"
      },
      "source": [
        "\r\n",
        "library(SportsAnalytics)\r\n",
        "NBA1516<- fetch_NBAPlayerStatistics(\"15-16\")"
      ],
      "execution_count": 39,
      "outputs": []
    },
    {
      "cell_type": "code",
      "metadata": {
        "colab": {
          "base_uri": "https://localhost:8080/"
        },
        "id": "KJuf0Mv0UFHy",
        "outputId": "2b7cf934-905a-4304-e06a-b77207501a96"
      },
      "source": [
        "str(NBA1516)"
      ],
      "execution_count": 34,
      "outputs": [
        {
          "output_type": "stream",
          "text": [
            "'data.frame':\t476 obs. of  25 variables:\n",
            " $ League             : Factor w/ 1 level \"NBA\": 1 1 1 1 1 1 1 1 1 1 ...\n",
            " $ Name               : chr  \"Quincy Acy\" \"Jordan Adams\" \"Steven Adams\" \"Arron Afflalo\" ...\n",
            " $ Team               : Factor w/ 31 levels \"ATL\",\"BOS\",\"BRO\",..: 27 15 22 20 19 13 28 26 12 15 ...\n",
            " $ Position           : Factor w/ 5 levels \"C\",\"PF\",\"PG\",..: 4 5 1 5 1 1 2 2 2 5 ...\n",
            " $ GamesPlayed        : int  59 2 80 71 59 60 74 9 79 64 ...\n",
            " $ TotalMinutesPlayed : int  877 15 2019 2359 863 802 2260 37 1601 1622 ...\n",
            " $ FieldGoalsMade     : int  119 2 261 354 150 134 536 5 191 215 ...\n",
            " $ FieldGoalsAttempted: int  214 6 426 799 314 225 1045 10 370 469 ...\n",
            " $ ThreesMade         : int  19 0 0 91 0 0 0 0 0 15 ...\n",
            " $ ThreesAttempted    : int  49 1 0 238 1 0 16 0 0 42 ...\n",
            " $ FreeThrowsMade     : int  50 3 114 110 52 60 259 0 46 90 ...\n",
            " $ FreeThrowsAttempted: int  68 5 196 131 62 84 302 0 73 138 ...\n",
            " $ OffensiveRebounds  : int  65 0 218 23 75 86 175 2 162 104 ...\n",
            " $ TotalRebounds      : int  188 2 531 266 269 288 631 6 424 297 ...\n",
            " $ Assists            : int  27 3 61 145 32 50 110 0 76 70 ...\n",
            " $ Steals             : int  29 3 42 25 19 47 38 1 26 109 ...\n",
            " $ Turnovers          : int  27 2 84 82 54 64 99 1 69 78 ...\n",
            " $ Blocks             : int  24 0 89 10 36 68 81 2 42 18 ...\n",
            " $ PersonalFouls      : int  103 2 223 142 134 139 151 1 147 175 ...\n",
            " $ Disqualifications  : int  0 0 2 1 0 1 0 0 1 1 ...\n",
            " $ TotalPoints        : int  307 7 636 909 352 328 1331 10 428 535 ...\n",
            " $ Technicals         : int  3 0 2 1 2 0 0 0 0 1 ...\n",
            " $ Ejections          : int  0 0 0 0 0 0 0 0 0 0 ...\n",
            " $ FlagrantFouls      : int  0 0 0 0 0 0 0 0 0 0 ...\n",
            " $ GamesStarted       : int  29 0 80 57 17 5 74 0 28 56 ...\n"
          ],
          "name": "stdout"
        }
      ]
    },
    {
      "cell_type": "code",
      "metadata": {
        "colab": {
          "base_uri": "https://localhost:8080/",
          "height": 405
        },
        "id": "iSiSj4MbWdeJ",
        "outputId": "8819e3bf-8717-4dd6-fdb1-7ddc87d4c5b2"
      },
      "source": [
        "head(NBA1516)"
      ],
      "execution_count": 43,
      "outputs": [
        {
          "output_type": "display_data",
          "data": {
            "text/plain": [
              "  League Name          Team Position GamesPlayed TotalMinutesPlayed\n",
              "1 NBA    Quincy Acy    SAC  SF       59           877              \n",
              "2 NBA    Jordan Adams  MEM  SG        2            15              \n",
              "3 NBA    Steven Adams  OKL  C        80          2019              \n",
              "4 NBA    Arron Afflalo NYK  SG       71          2359              \n",
              "5 NBA    Alexis Ajinca NOR  C        59           863              \n",
              "6 NBA    Cole Aldrich  LAC  C        60           802              \n",
              "  FieldGoalsMade FieldGoalsAttempted ThreesMade ThreesAttempted ⋯ Steals\n",
              "1 119            214                 19          49             ⋯ 29    \n",
              "2   2              6                  0           1             ⋯  3    \n",
              "3 261            426                  0           0             ⋯ 42    \n",
              "4 354            799                 91         238             ⋯ 25    \n",
              "5 150            314                  0           1             ⋯ 19    \n",
              "6 134            225                  0           0             ⋯ 47    \n",
              "  Turnovers Blocks PersonalFouls Disqualifications TotalPoints Technicals\n",
              "1 27        24     103           0                 307         3         \n",
              "2  2         0       2           0                   7         0         \n",
              "3 84        89     223           2                 636         2         \n",
              "4 82        10     142           1                 909         1         \n",
              "5 54        36     134           0                 352         2         \n",
              "6 64        68     139           1                 328         0         \n",
              "  Ejections FlagrantFouls GamesStarted\n",
              "1 0         0             29          \n",
              "2 0         0              0          \n",
              "3 0         0             80          \n",
              "4 0         0             57          \n",
              "5 0         0             17          \n",
              "6 0         0              5          "
            ],
            "text/latex": "A data.frame: 6 × 25\n\\begin{tabular}{r|lllllllllllllllllllll}\n  & League & Name & Team & Position & GamesPlayed & TotalMinutesPlayed & FieldGoalsMade & FieldGoalsAttempted & ThreesMade & ThreesAttempted & ⋯ & Steals & Turnovers & Blocks & PersonalFouls & Disqualifications & TotalPoints & Technicals & Ejections & FlagrantFouls & GamesStarted\\\\\n  & <fct> & <chr> & <fct> & <fct> & <int> & <int> & <int> & <int> & <int> & <int> & ⋯ & <int> & <int> & <int> & <int> & <int> & <int> & <int> & <int> & <int> & <int>\\\\\n\\hline\n\t1 & NBA & Quincy Acy    & SAC & SF & 59 &  877 & 119 & 214 & 19 &  49 & ⋯ & 29 & 27 & 24 & 103 & 0 & 307 & 3 & 0 & 0 & 29\\\\\n\t2 & NBA & Jordan Adams  & MEM & SG &  2 &   15 &   2 &   6 &  0 &   1 & ⋯ &  3 &  2 &  0 &   2 & 0 &   7 & 0 & 0 & 0 &  0\\\\\n\t3 & NBA & Steven Adams  & OKL & C  & 80 & 2019 & 261 & 426 &  0 &   0 & ⋯ & 42 & 84 & 89 & 223 & 2 & 636 & 2 & 0 & 0 & 80\\\\\n\t4 & NBA & Arron Afflalo & NYK & SG & 71 & 2359 & 354 & 799 & 91 & 238 & ⋯ & 25 & 82 & 10 & 142 & 1 & 909 & 1 & 0 & 0 & 57\\\\\n\t5 & NBA & Alexis Ajinca & NOR & C  & 59 &  863 & 150 & 314 &  0 &   1 & ⋯ & 19 & 54 & 36 & 134 & 0 & 352 & 2 & 0 & 0 & 17\\\\\n\t6 & NBA & Cole Aldrich  & LAC & C  & 60 &  802 & 134 & 225 &  0 &   0 & ⋯ & 47 & 64 & 68 & 139 & 1 & 328 & 0 & 0 & 0 &  5\\\\\n\\end{tabular}\n",
            "text/markdown": "\nA data.frame: 6 × 25\n\n| <!--/--> | League &lt;fct&gt; | Name &lt;chr&gt; | Team &lt;fct&gt; | Position &lt;fct&gt; | GamesPlayed &lt;int&gt; | TotalMinutesPlayed &lt;int&gt; | FieldGoalsMade &lt;int&gt; | FieldGoalsAttempted &lt;int&gt; | ThreesMade &lt;int&gt; | ThreesAttempted &lt;int&gt; | ⋯ ⋯ | Steals &lt;int&gt; | Turnovers &lt;int&gt; | Blocks &lt;int&gt; | PersonalFouls &lt;int&gt; | Disqualifications &lt;int&gt; | TotalPoints &lt;int&gt; | Technicals &lt;int&gt; | Ejections &lt;int&gt; | FlagrantFouls &lt;int&gt; | GamesStarted &lt;int&gt; |\n|---|---|---|---|---|---|---|---|---|---|---|---|---|---|---|---|---|---|---|---|---|---|\n| 1 | NBA | Quincy Acy    | SAC | SF | 59 |  877 | 119 | 214 | 19 |  49 | ⋯ | 29 | 27 | 24 | 103 | 0 | 307 | 3 | 0 | 0 | 29 |\n| 2 | NBA | Jordan Adams  | MEM | SG |  2 |   15 |   2 |   6 |  0 |   1 | ⋯ |  3 |  2 |  0 |   2 | 0 |   7 | 0 | 0 | 0 |  0 |\n| 3 | NBA | Steven Adams  | OKL | C  | 80 | 2019 | 261 | 426 |  0 |   0 | ⋯ | 42 | 84 | 89 | 223 | 2 | 636 | 2 | 0 | 0 | 80 |\n| 4 | NBA | Arron Afflalo | NYK | SG | 71 | 2359 | 354 | 799 | 91 | 238 | ⋯ | 25 | 82 | 10 | 142 | 1 | 909 | 1 | 0 | 0 | 57 |\n| 5 | NBA | Alexis Ajinca | NOR | C  | 59 |  863 | 150 | 314 |  0 |   1 | ⋯ | 19 | 54 | 36 | 134 | 0 | 352 | 2 | 0 | 0 | 17 |\n| 6 | NBA | Cole Aldrich  | LAC | C  | 60 |  802 | 134 | 225 |  0 |   0 | ⋯ | 47 | 64 | 68 | 139 | 1 | 328 | 0 | 0 | 0 |  5 |\n\n",
            "text/html": [
              "<table class=\"dataframe\">\n",
              "<caption>A data.frame: 6 × 25</caption>\n",
              "<thead>\n",
              "\t<tr><th></th><th scope=col>League</th><th scope=col>Name</th><th scope=col>Team</th><th scope=col>Position</th><th scope=col>GamesPlayed</th><th scope=col>TotalMinutesPlayed</th><th scope=col>FieldGoalsMade</th><th scope=col>FieldGoalsAttempted</th><th scope=col>ThreesMade</th><th scope=col>ThreesAttempted</th><th scope=col>⋯</th><th scope=col>Steals</th><th scope=col>Turnovers</th><th scope=col>Blocks</th><th scope=col>PersonalFouls</th><th scope=col>Disqualifications</th><th scope=col>TotalPoints</th><th scope=col>Technicals</th><th scope=col>Ejections</th><th scope=col>FlagrantFouls</th><th scope=col>GamesStarted</th></tr>\n",
              "\t<tr><th></th><th scope=col>&lt;fct&gt;</th><th scope=col>&lt;chr&gt;</th><th scope=col>&lt;fct&gt;</th><th scope=col>&lt;fct&gt;</th><th scope=col>&lt;int&gt;</th><th scope=col>&lt;int&gt;</th><th scope=col>&lt;int&gt;</th><th scope=col>&lt;int&gt;</th><th scope=col>&lt;int&gt;</th><th scope=col>&lt;int&gt;</th><th scope=col>⋯</th><th scope=col>&lt;int&gt;</th><th scope=col>&lt;int&gt;</th><th scope=col>&lt;int&gt;</th><th scope=col>&lt;int&gt;</th><th scope=col>&lt;int&gt;</th><th scope=col>&lt;int&gt;</th><th scope=col>&lt;int&gt;</th><th scope=col>&lt;int&gt;</th><th scope=col>&lt;int&gt;</th><th scope=col>&lt;int&gt;</th></tr>\n",
              "</thead>\n",
              "<tbody>\n",
              "\t<tr><th scope=row>1</th><td>NBA</td><td>Quincy Acy   </td><td>SAC</td><td>SF</td><td>59</td><td> 877</td><td>119</td><td>214</td><td>19</td><td> 49</td><td>⋯</td><td>29</td><td>27</td><td>24</td><td>103</td><td>0</td><td>307</td><td>3</td><td>0</td><td>0</td><td>29</td></tr>\n",
              "\t<tr><th scope=row>2</th><td>NBA</td><td>Jordan Adams </td><td>MEM</td><td>SG</td><td> 2</td><td>  15</td><td>  2</td><td>  6</td><td> 0</td><td>  1</td><td>⋯</td><td> 3</td><td> 2</td><td> 0</td><td>  2</td><td>0</td><td>  7</td><td>0</td><td>0</td><td>0</td><td> 0</td></tr>\n",
              "\t<tr><th scope=row>3</th><td>NBA</td><td>Steven Adams </td><td>OKL</td><td>C </td><td>80</td><td>2019</td><td>261</td><td>426</td><td> 0</td><td>  0</td><td>⋯</td><td>42</td><td>84</td><td>89</td><td>223</td><td>2</td><td>636</td><td>2</td><td>0</td><td>0</td><td>80</td></tr>\n",
              "\t<tr><th scope=row>4</th><td>NBA</td><td>Arron Afflalo</td><td>NYK</td><td>SG</td><td>71</td><td>2359</td><td>354</td><td>799</td><td>91</td><td>238</td><td>⋯</td><td>25</td><td>82</td><td>10</td><td>142</td><td>1</td><td>909</td><td>1</td><td>0</td><td>0</td><td>57</td></tr>\n",
              "\t<tr><th scope=row>5</th><td>NBA</td><td>Alexis Ajinca</td><td>NOR</td><td>C </td><td>59</td><td> 863</td><td>150</td><td>314</td><td> 0</td><td>  1</td><td>⋯</td><td>19</td><td>54</td><td>36</td><td>134</td><td>0</td><td>352</td><td>2</td><td>0</td><td>0</td><td>17</td></tr>\n",
              "\t<tr><th scope=row>6</th><td>NBA</td><td>Cole Aldrich </td><td>LAC</td><td>C </td><td>60</td><td> 802</td><td>134</td><td>225</td><td> 0</td><td>  0</td><td>⋯</td><td>47</td><td>64</td><td>68</td><td>139</td><td>1</td><td>328</td><td>0</td><td>0</td><td>0</td><td> 5</td></tr>\n",
              "</tbody>\n",
              "</table>\n"
            ]
          },
          "metadata": {
            "tags": []
          }
        }
      ]
    },
    {
      "cell_type": "code",
      "metadata": {
        "colab": {
          "base_uri": "https://localhost:8080/",
          "height": 1000
        },
        "id": "Fw-tvc3QW-Z4",
        "outputId": "7e1b8a51-be0e-4fff-d995-4838cb1a424b"
      },
      "source": [
        "NBA1516Order<- NBA1516[order(NBA1516$GamesPlayed,decreasing=T),]\r\n",
        "NBA1516Order[1:20,]"
      ],
      "execution_count": 45,
      "outputs": [
        {
          "output_type": "display_data",
          "data": {
            "text/plain": [
              "    League Name             Team Position GamesPlayed TotalMinutesPlayed\n",
              "11  NBA    Al-farouq Aminu  POR  SF       82          2342              \n",
              "37  NBA    Will Barton      DEN  SG       82          2355              \n",
              "48  NBA    Bismack Biyombo  TOR  PF       82          1810              \n",
              "62  NBA    Corey Brewer     HOU  SG       82          1670              \n",
              "118 NBA    Gorgui Dieng     MIN  C        82          2222              \n",
              "148 NBA    Langsto Galloway NYK  PG       82          2032              \n",
              "178 NBA    James Harden     HOU  SG       82          3121              \n",
              "208 NBA    Al Horford       ATL  PF       82          2638              \n",
              "246 NBA    Enes Kanter      OKL  C        82          1721              \n",
              "259 NBA    Zach Lavine      MIN  PG       82          2295              \n",
              "272 NBA    Robin Lopez      NYK  C        82          2213              \n",
              "320 NBA    Shabazz Muhammad MIN  SF       82          1678              \n",
              "357 NBA    Mason Plumlee    POR  PF       82          2087              \n",
              "394 NBA    Ramon Sessions   WAS  PG       82          1667              \n",
              "422 NBA    Isaiah Thomas    BOS  PG       82          2647              \n",
              "427 NBA    Tristan Thompson CLE  C        82          2269              \n",
              "431 NBA    Karl-antho Towns MIN  C        82          2621              \n",
              "432 NBA    P.j. Tucker      PHO  SF       82          2540              \n",
              "24  NBA    Trevor Ariza     HOU  SF       81          2860              \n",
              "41  NBA    Aron Baynes      DET  PF       81          1241              \n",
              "    FieldGoalsMade FieldGoalsAttempted ThreesMade ThreesAttempted ⋯ Steals\n",
              "11  299             719                126        349             ⋯  72   \n",
              "37  426             984                112        324             ⋯  71   \n",
              "48  156             288                  0          1             ⋯  19   \n",
              "62  212             552                 61        225             ⋯  84   \n",
              "118 308             578                  6         20             ⋯  94   \n",
              "148 231             588                 77        224             ⋯  77   \n",
              "178 710            1617                236        656             ⋯ 138   \n",
              "208 529            1049                 88        257             ⋯  67   \n",
              "246 415             720                 10         21             ⋯  26   \n",
              "259 433             960                123        316             ⋯  69   \n",
              "272 357             662                  0          1             ⋯  16   \n",
              "320 317             681                 44        152             ⋯  24   \n",
              "357 267             517                  0          4             ⋯  68   \n",
              "394 280             592                 36        111             ⋯  47   \n",
              "422 591            1382                167        465             ⋯  91   \n",
              "427 247             420                  0          0             ⋯  38   \n",
              "431 625            1152                 30         88             ⋯  58   \n",
              "432 239             582                 68        206             ⋯ 106   \n",
              "24  357             858                185        497             ⋯ 161   \n",
              "41  194             384                  0          2             ⋯  21   \n",
              "    Turnovers Blocks PersonalFouls Disqualifications TotalPoints Technicals\n",
              "11  120        53    171           0                  839        3         \n",
              "37  139        39    147           0                 1180        2         \n",
              "48   71       133    225           2                  454        3         \n",
              "62   78        19    168           1                  590        0         \n",
              "118 140        96    219           0                  827        1         \n",
              "148  61        22    177           2                  625        0         \n",
              "178 374        51    229           1                 2376        2         \n",
              "208 107       122    163           0                 1249        1         \n",
              "246 115        33    166           1                 1040        2         \n",
              "259 155        17    193           1                 1150        0         \n",
              "272 133       129    182           2                  842        3         \n",
              "320  70         7     94           0                  863        0         \n",
              "357 154        82    253           4                  749        1         \n",
              "394 115         5    102           0                  810        0         \n",
              "422 220         9    167           1                 1823        9         \n",
              "427  61        51    202           0                  643        1         \n",
              "431 183       138    245           1                 1503        2         \n",
              "432 111        20    202           3                  652        4         \n",
              "24  113        26    177           0                 1025        2         \n",
              "41   67        52    151           0                  514        0         \n",
              "    Ejections FlagrantFouls GamesStarted\n",
              "11  0         0             82          \n",
              "37  0         0              1          \n",
              "48  0         0             22          \n",
              "62  0         0             12          \n",
              "118 0         0             39          \n",
              "148 0         0              7          \n",
              "178 0         0             82          \n",
              "208 0         0             82          \n",
              "246 0         0              1          \n",
              "259 0         0             33          \n",
              "272 0         0             82          \n",
              "320 0         0              0          \n",
              "357 0         0             82          \n",
              "394 0         0              5          \n",
              "422 0         0             79          \n",
              "427 0         0             34          \n",
              "431 0         0             82          \n",
              "432 0         0             80          \n",
              "24  0         0             81          \n",
              "41  0         0              1          "
            ],
            "text/latex": "A data.frame: 20 × 25\n\\begin{tabular}{r|lllllllllllllllllllll}\n  & League & Name & Team & Position & GamesPlayed & TotalMinutesPlayed & FieldGoalsMade & FieldGoalsAttempted & ThreesMade & ThreesAttempted & ⋯ & Steals & Turnovers & Blocks & PersonalFouls & Disqualifications & TotalPoints & Technicals & Ejections & FlagrantFouls & GamesStarted\\\\\n  & <fct> & <chr> & <fct> & <fct> & <int> & <int> & <int> & <int> & <int> & <int> & ⋯ & <int> & <int> & <int> & <int> & <int> & <int> & <int> & <int> & <int> & <int>\\\\\n\\hline\n\t11 & NBA & Al-farouq Aminu  & POR & SF & 82 & 2342 & 299 &  719 & 126 & 349 & ⋯ &  72 & 120 &  53 & 171 & 0 &  839 & 3 & 0 & 0 & 82\\\\\n\t37 & NBA & Will Barton      & DEN & SG & 82 & 2355 & 426 &  984 & 112 & 324 & ⋯ &  71 & 139 &  39 & 147 & 0 & 1180 & 2 & 0 & 0 &  1\\\\\n\t48 & NBA & Bismack Biyombo  & TOR & PF & 82 & 1810 & 156 &  288 &   0 &   1 & ⋯ &  19 &  71 & 133 & 225 & 2 &  454 & 3 & 0 & 0 & 22\\\\\n\t62 & NBA & Corey Brewer     & HOU & SG & 82 & 1670 & 212 &  552 &  61 & 225 & ⋯ &  84 &  78 &  19 & 168 & 1 &  590 & 0 & 0 & 0 & 12\\\\\n\t118 & NBA & Gorgui Dieng     & MIN & C  & 82 & 2222 & 308 &  578 &   6 &  20 & ⋯ &  94 & 140 &  96 & 219 & 0 &  827 & 1 & 0 & 0 & 39\\\\\n\t148 & NBA & Langsto Galloway & NYK & PG & 82 & 2032 & 231 &  588 &  77 & 224 & ⋯ &  77 &  61 &  22 & 177 & 2 &  625 & 0 & 0 & 0 &  7\\\\\n\t178 & NBA & James Harden     & HOU & SG & 82 & 3121 & 710 & 1617 & 236 & 656 & ⋯ & 138 & 374 &  51 & 229 & 1 & 2376 & 2 & 0 & 0 & 82\\\\\n\t208 & NBA & Al Horford       & ATL & PF & 82 & 2638 & 529 & 1049 &  88 & 257 & ⋯ &  67 & 107 & 122 & 163 & 0 & 1249 & 1 & 0 & 0 & 82\\\\\n\t246 & NBA & Enes Kanter      & OKL & C  & 82 & 1721 & 415 &  720 &  10 &  21 & ⋯ &  26 & 115 &  33 & 166 & 1 & 1040 & 2 & 0 & 0 &  1\\\\\n\t259 & NBA & Zach Lavine      & MIN & PG & 82 & 2295 & 433 &  960 & 123 & 316 & ⋯ &  69 & 155 &  17 & 193 & 1 & 1150 & 0 & 0 & 0 & 33\\\\\n\t272 & NBA & Robin Lopez      & NYK & C  & 82 & 2213 & 357 &  662 &   0 &   1 & ⋯ &  16 & 133 & 129 & 182 & 2 &  842 & 3 & 0 & 0 & 82\\\\\n\t320 & NBA & Shabazz Muhammad & MIN & SF & 82 & 1678 & 317 &  681 &  44 & 152 & ⋯ &  24 &  70 &   7 &  94 & 0 &  863 & 0 & 0 & 0 &  0\\\\\n\t357 & NBA & Mason Plumlee    & POR & PF & 82 & 2087 & 267 &  517 &   0 &   4 & ⋯ &  68 & 154 &  82 & 253 & 4 &  749 & 1 & 0 & 0 & 82\\\\\n\t394 & NBA & Ramon Sessions   & WAS & PG & 82 & 1667 & 280 &  592 &  36 & 111 & ⋯ &  47 & 115 &   5 & 102 & 0 &  810 & 0 & 0 & 0 &  5\\\\\n\t422 & NBA & Isaiah Thomas    & BOS & PG & 82 & 2647 & 591 & 1382 & 167 & 465 & ⋯ &  91 & 220 &   9 & 167 & 1 & 1823 & 9 & 0 & 0 & 79\\\\\n\t427 & NBA & Tristan Thompson & CLE & C  & 82 & 2269 & 247 &  420 &   0 &   0 & ⋯ &  38 &  61 &  51 & 202 & 0 &  643 & 1 & 0 & 0 & 34\\\\\n\t431 & NBA & Karl-antho Towns & MIN & C  & 82 & 2621 & 625 & 1152 &  30 &  88 & ⋯ &  58 & 183 & 138 & 245 & 1 & 1503 & 2 & 0 & 0 & 82\\\\\n\t432 & NBA & P.j. Tucker      & PHO & SF & 82 & 2540 & 239 &  582 &  68 & 206 & ⋯ & 106 & 111 &  20 & 202 & 3 &  652 & 4 & 0 & 0 & 80\\\\\n\t24 & NBA & Trevor Ariza     & HOU & SF & 81 & 2860 & 357 &  858 & 185 & 497 & ⋯ & 161 & 113 &  26 & 177 & 0 & 1025 & 2 & 0 & 0 & 81\\\\\n\t41 & NBA & Aron Baynes      & DET & PF & 81 & 1241 & 194 &  384 &   0 &   2 & ⋯ &  21 &  67 &  52 & 151 & 0 &  514 & 0 & 0 & 0 &  1\\\\\n\\end{tabular}\n",
            "text/markdown": "\nA data.frame: 20 × 25\n\n| <!--/--> | League &lt;fct&gt; | Name &lt;chr&gt; | Team &lt;fct&gt; | Position &lt;fct&gt; | GamesPlayed &lt;int&gt; | TotalMinutesPlayed &lt;int&gt; | FieldGoalsMade &lt;int&gt; | FieldGoalsAttempted &lt;int&gt; | ThreesMade &lt;int&gt; | ThreesAttempted &lt;int&gt; | ⋯ ⋯ | Steals &lt;int&gt; | Turnovers &lt;int&gt; | Blocks &lt;int&gt; | PersonalFouls &lt;int&gt; | Disqualifications &lt;int&gt; | TotalPoints &lt;int&gt; | Technicals &lt;int&gt; | Ejections &lt;int&gt; | FlagrantFouls &lt;int&gt; | GamesStarted &lt;int&gt; |\n|---|---|---|---|---|---|---|---|---|---|---|---|---|---|---|---|---|---|---|---|---|---|\n| 11 | NBA | Al-farouq Aminu  | POR | SF | 82 | 2342 | 299 |  719 | 126 | 349 | ⋯ |  72 | 120 |  53 | 171 | 0 |  839 | 3 | 0 | 0 | 82 |\n| 37 | NBA | Will Barton      | DEN | SG | 82 | 2355 | 426 |  984 | 112 | 324 | ⋯ |  71 | 139 |  39 | 147 | 0 | 1180 | 2 | 0 | 0 |  1 |\n| 48 | NBA | Bismack Biyombo  | TOR | PF | 82 | 1810 | 156 |  288 |   0 |   1 | ⋯ |  19 |  71 | 133 | 225 | 2 |  454 | 3 | 0 | 0 | 22 |\n| 62 | NBA | Corey Brewer     | HOU | SG | 82 | 1670 | 212 |  552 |  61 | 225 | ⋯ |  84 |  78 |  19 | 168 | 1 |  590 | 0 | 0 | 0 | 12 |\n| 118 | NBA | Gorgui Dieng     | MIN | C  | 82 | 2222 | 308 |  578 |   6 |  20 | ⋯ |  94 | 140 |  96 | 219 | 0 |  827 | 1 | 0 | 0 | 39 |\n| 148 | NBA | Langsto Galloway | NYK | PG | 82 | 2032 | 231 |  588 |  77 | 224 | ⋯ |  77 |  61 |  22 | 177 | 2 |  625 | 0 | 0 | 0 |  7 |\n| 178 | NBA | James Harden     | HOU | SG | 82 | 3121 | 710 | 1617 | 236 | 656 | ⋯ | 138 | 374 |  51 | 229 | 1 | 2376 | 2 | 0 | 0 | 82 |\n| 208 | NBA | Al Horford       | ATL | PF | 82 | 2638 | 529 | 1049 |  88 | 257 | ⋯ |  67 | 107 | 122 | 163 | 0 | 1249 | 1 | 0 | 0 | 82 |\n| 246 | NBA | Enes Kanter      | OKL | C  | 82 | 1721 | 415 |  720 |  10 |  21 | ⋯ |  26 | 115 |  33 | 166 | 1 | 1040 | 2 | 0 | 0 |  1 |\n| 259 | NBA | Zach Lavine      | MIN | PG | 82 | 2295 | 433 |  960 | 123 | 316 | ⋯ |  69 | 155 |  17 | 193 | 1 | 1150 | 0 | 0 | 0 | 33 |\n| 272 | NBA | Robin Lopez      | NYK | C  | 82 | 2213 | 357 |  662 |   0 |   1 | ⋯ |  16 | 133 | 129 | 182 | 2 |  842 | 3 | 0 | 0 | 82 |\n| 320 | NBA | Shabazz Muhammad | MIN | SF | 82 | 1678 | 317 |  681 |  44 | 152 | ⋯ |  24 |  70 |   7 |  94 | 0 |  863 | 0 | 0 | 0 |  0 |\n| 357 | NBA | Mason Plumlee    | POR | PF | 82 | 2087 | 267 |  517 |   0 |   4 | ⋯ |  68 | 154 |  82 | 253 | 4 |  749 | 1 | 0 | 0 | 82 |\n| 394 | NBA | Ramon Sessions   | WAS | PG | 82 | 1667 | 280 |  592 |  36 | 111 | ⋯ |  47 | 115 |   5 | 102 | 0 |  810 | 0 | 0 | 0 |  5 |\n| 422 | NBA | Isaiah Thomas    | BOS | PG | 82 | 2647 | 591 | 1382 | 167 | 465 | ⋯ |  91 | 220 |   9 | 167 | 1 | 1823 | 9 | 0 | 0 | 79 |\n| 427 | NBA | Tristan Thompson | CLE | C  | 82 | 2269 | 247 |  420 |   0 |   0 | ⋯ |  38 |  61 |  51 | 202 | 0 |  643 | 1 | 0 | 0 | 34 |\n| 431 | NBA | Karl-antho Towns | MIN | C  | 82 | 2621 | 625 | 1152 |  30 |  88 | ⋯ |  58 | 183 | 138 | 245 | 1 | 1503 | 2 | 0 | 0 | 82 |\n| 432 | NBA | P.j. Tucker      | PHO | SF | 82 | 2540 | 239 |  582 |  68 | 206 | ⋯ | 106 | 111 |  20 | 202 | 3 |  652 | 4 | 0 | 0 | 80 |\n| 24 | NBA | Trevor Ariza     | HOU | SF | 81 | 2860 | 357 |  858 | 185 | 497 | ⋯ | 161 | 113 |  26 | 177 | 0 | 1025 | 2 | 0 | 0 | 81 |\n| 41 | NBA | Aron Baynes      | DET | PF | 81 | 1241 | 194 |  384 |   0 |   2 | ⋯ |  21 |  67 |  52 | 151 | 0 |  514 | 0 | 0 | 0 |  1 |\n\n",
            "text/html": [
              "<table class=\"dataframe\">\n",
              "<caption>A data.frame: 20 × 25</caption>\n",
              "<thead>\n",
              "\t<tr><th></th><th scope=col>League</th><th scope=col>Name</th><th scope=col>Team</th><th scope=col>Position</th><th scope=col>GamesPlayed</th><th scope=col>TotalMinutesPlayed</th><th scope=col>FieldGoalsMade</th><th scope=col>FieldGoalsAttempted</th><th scope=col>ThreesMade</th><th scope=col>ThreesAttempted</th><th scope=col>⋯</th><th scope=col>Steals</th><th scope=col>Turnovers</th><th scope=col>Blocks</th><th scope=col>PersonalFouls</th><th scope=col>Disqualifications</th><th scope=col>TotalPoints</th><th scope=col>Technicals</th><th scope=col>Ejections</th><th scope=col>FlagrantFouls</th><th scope=col>GamesStarted</th></tr>\n",
              "\t<tr><th></th><th scope=col>&lt;fct&gt;</th><th scope=col>&lt;chr&gt;</th><th scope=col>&lt;fct&gt;</th><th scope=col>&lt;fct&gt;</th><th scope=col>&lt;int&gt;</th><th scope=col>&lt;int&gt;</th><th scope=col>&lt;int&gt;</th><th scope=col>&lt;int&gt;</th><th scope=col>&lt;int&gt;</th><th scope=col>&lt;int&gt;</th><th scope=col>⋯</th><th scope=col>&lt;int&gt;</th><th scope=col>&lt;int&gt;</th><th scope=col>&lt;int&gt;</th><th scope=col>&lt;int&gt;</th><th scope=col>&lt;int&gt;</th><th scope=col>&lt;int&gt;</th><th scope=col>&lt;int&gt;</th><th scope=col>&lt;int&gt;</th><th scope=col>&lt;int&gt;</th><th scope=col>&lt;int&gt;</th></tr>\n",
              "</thead>\n",
              "<tbody>\n",
              "\t<tr><th scope=row>11</th><td>NBA</td><td>Al-farouq Aminu </td><td>POR</td><td>SF</td><td>82</td><td>2342</td><td>299</td><td> 719</td><td>126</td><td>349</td><td>⋯</td><td> 72</td><td>120</td><td> 53</td><td>171</td><td>0</td><td> 839</td><td>3</td><td>0</td><td>0</td><td>82</td></tr>\n",
              "\t<tr><th scope=row>37</th><td>NBA</td><td>Will Barton     </td><td>DEN</td><td>SG</td><td>82</td><td>2355</td><td>426</td><td> 984</td><td>112</td><td>324</td><td>⋯</td><td> 71</td><td>139</td><td> 39</td><td>147</td><td>0</td><td>1180</td><td>2</td><td>0</td><td>0</td><td> 1</td></tr>\n",
              "\t<tr><th scope=row>48</th><td>NBA</td><td>Bismack Biyombo </td><td>TOR</td><td>PF</td><td>82</td><td>1810</td><td>156</td><td> 288</td><td>  0</td><td>  1</td><td>⋯</td><td> 19</td><td> 71</td><td>133</td><td>225</td><td>2</td><td> 454</td><td>3</td><td>0</td><td>0</td><td>22</td></tr>\n",
              "\t<tr><th scope=row>62</th><td>NBA</td><td>Corey Brewer    </td><td>HOU</td><td>SG</td><td>82</td><td>1670</td><td>212</td><td> 552</td><td> 61</td><td>225</td><td>⋯</td><td> 84</td><td> 78</td><td> 19</td><td>168</td><td>1</td><td> 590</td><td>0</td><td>0</td><td>0</td><td>12</td></tr>\n",
              "\t<tr><th scope=row>118</th><td>NBA</td><td>Gorgui Dieng    </td><td>MIN</td><td>C </td><td>82</td><td>2222</td><td>308</td><td> 578</td><td>  6</td><td> 20</td><td>⋯</td><td> 94</td><td>140</td><td> 96</td><td>219</td><td>0</td><td> 827</td><td>1</td><td>0</td><td>0</td><td>39</td></tr>\n",
              "\t<tr><th scope=row>148</th><td>NBA</td><td>Langsto Galloway</td><td>NYK</td><td>PG</td><td>82</td><td>2032</td><td>231</td><td> 588</td><td> 77</td><td>224</td><td>⋯</td><td> 77</td><td> 61</td><td> 22</td><td>177</td><td>2</td><td> 625</td><td>0</td><td>0</td><td>0</td><td> 7</td></tr>\n",
              "\t<tr><th scope=row>178</th><td>NBA</td><td>James Harden    </td><td>HOU</td><td>SG</td><td>82</td><td>3121</td><td>710</td><td>1617</td><td>236</td><td>656</td><td>⋯</td><td>138</td><td>374</td><td> 51</td><td>229</td><td>1</td><td>2376</td><td>2</td><td>0</td><td>0</td><td>82</td></tr>\n",
              "\t<tr><th scope=row>208</th><td>NBA</td><td>Al Horford      </td><td>ATL</td><td>PF</td><td>82</td><td>2638</td><td>529</td><td>1049</td><td> 88</td><td>257</td><td>⋯</td><td> 67</td><td>107</td><td>122</td><td>163</td><td>0</td><td>1249</td><td>1</td><td>0</td><td>0</td><td>82</td></tr>\n",
              "\t<tr><th scope=row>246</th><td>NBA</td><td>Enes Kanter     </td><td>OKL</td><td>C </td><td>82</td><td>1721</td><td>415</td><td> 720</td><td> 10</td><td> 21</td><td>⋯</td><td> 26</td><td>115</td><td> 33</td><td>166</td><td>1</td><td>1040</td><td>2</td><td>0</td><td>0</td><td> 1</td></tr>\n",
              "\t<tr><th scope=row>259</th><td>NBA</td><td>Zach Lavine     </td><td>MIN</td><td>PG</td><td>82</td><td>2295</td><td>433</td><td> 960</td><td>123</td><td>316</td><td>⋯</td><td> 69</td><td>155</td><td> 17</td><td>193</td><td>1</td><td>1150</td><td>0</td><td>0</td><td>0</td><td>33</td></tr>\n",
              "\t<tr><th scope=row>272</th><td>NBA</td><td>Robin Lopez     </td><td>NYK</td><td>C </td><td>82</td><td>2213</td><td>357</td><td> 662</td><td>  0</td><td>  1</td><td>⋯</td><td> 16</td><td>133</td><td>129</td><td>182</td><td>2</td><td> 842</td><td>3</td><td>0</td><td>0</td><td>82</td></tr>\n",
              "\t<tr><th scope=row>320</th><td>NBA</td><td>Shabazz Muhammad</td><td>MIN</td><td>SF</td><td>82</td><td>1678</td><td>317</td><td> 681</td><td> 44</td><td>152</td><td>⋯</td><td> 24</td><td> 70</td><td>  7</td><td> 94</td><td>0</td><td> 863</td><td>0</td><td>0</td><td>0</td><td> 0</td></tr>\n",
              "\t<tr><th scope=row>357</th><td>NBA</td><td>Mason Plumlee   </td><td>POR</td><td>PF</td><td>82</td><td>2087</td><td>267</td><td> 517</td><td>  0</td><td>  4</td><td>⋯</td><td> 68</td><td>154</td><td> 82</td><td>253</td><td>4</td><td> 749</td><td>1</td><td>0</td><td>0</td><td>82</td></tr>\n",
              "\t<tr><th scope=row>394</th><td>NBA</td><td>Ramon Sessions  </td><td>WAS</td><td>PG</td><td>82</td><td>1667</td><td>280</td><td> 592</td><td> 36</td><td>111</td><td>⋯</td><td> 47</td><td>115</td><td>  5</td><td>102</td><td>0</td><td> 810</td><td>0</td><td>0</td><td>0</td><td> 5</td></tr>\n",
              "\t<tr><th scope=row>422</th><td>NBA</td><td>Isaiah Thomas   </td><td>BOS</td><td>PG</td><td>82</td><td>2647</td><td>591</td><td>1382</td><td>167</td><td>465</td><td>⋯</td><td> 91</td><td>220</td><td>  9</td><td>167</td><td>1</td><td>1823</td><td>9</td><td>0</td><td>0</td><td>79</td></tr>\n",
              "\t<tr><th scope=row>427</th><td>NBA</td><td>Tristan Thompson</td><td>CLE</td><td>C </td><td>82</td><td>2269</td><td>247</td><td> 420</td><td>  0</td><td>  0</td><td>⋯</td><td> 38</td><td> 61</td><td> 51</td><td>202</td><td>0</td><td> 643</td><td>1</td><td>0</td><td>0</td><td>34</td></tr>\n",
              "\t<tr><th scope=row>431</th><td>NBA</td><td>Karl-antho Towns</td><td>MIN</td><td>C </td><td>82</td><td>2621</td><td>625</td><td>1152</td><td> 30</td><td> 88</td><td>⋯</td><td> 58</td><td>183</td><td>138</td><td>245</td><td>1</td><td>1503</td><td>2</td><td>0</td><td>0</td><td>82</td></tr>\n",
              "\t<tr><th scope=row>432</th><td>NBA</td><td>P.j. Tucker     </td><td>PHO</td><td>SF</td><td>82</td><td>2540</td><td>239</td><td> 582</td><td> 68</td><td>206</td><td>⋯</td><td>106</td><td>111</td><td> 20</td><td>202</td><td>3</td><td> 652</td><td>4</td><td>0</td><td>0</td><td>80</td></tr>\n",
              "\t<tr><th scope=row>24</th><td>NBA</td><td>Trevor Ariza    </td><td>HOU</td><td>SF</td><td>81</td><td>2860</td><td>357</td><td> 858</td><td>185</td><td>497</td><td>⋯</td><td>161</td><td>113</td><td> 26</td><td>177</td><td>0</td><td>1025</td><td>2</td><td>0</td><td>0</td><td>81</td></tr>\n",
              "\t<tr><th scope=row>41</th><td>NBA</td><td>Aron Baynes     </td><td>DET</td><td>PF</td><td>81</td><td>1241</td><td>194</td><td> 384</td><td>  0</td><td>  2</td><td>⋯</td><td> 21</td><td> 67</td><td> 52</td><td>151</td><td>0</td><td> 514</td><td>0</td><td>0</td><td>0</td><td> 1</td></tr>\n",
              "</tbody>\n",
              "</table>\n"
            ]
          },
          "metadata": {
            "tags": []
          }
        }
      ]
    },
    {
      "cell_type": "code",
      "metadata": {
        "colab": {
          "base_uri": "https://localhost:8080/",
          "height": 735
        },
        "id": "O_GpfYd1YGS5",
        "outputId": "590fab5d-1ed7-46b5-a3f4-e4607ad8bfed"
      },
      "source": [
        "subset(NBA1516,Team==\"POR\")"
      ],
      "execution_count": 48,
      "outputs": [
        {
          "output_type": "display_data",
          "data": {
            "text/plain": [
              "    League Name             Team Position GamesPlayed TotalMinutesPlayed\n",
              "8   NBA    Cliff Alexander  POR  PF        9            37              \n",
              "11  NBA    Al-farouq Aminu  POR  SF       82          2342              \n",
              "95  NBA    Pat Connaughton  POR  SG       34           147              \n",
              "100 NBA    Allen Crabbe     POR  SF       81          2111              \n",
              "109 NBA    Ed Davis         POR  PF       81          1684              \n",
              "179 NBA    Maurice Harkless POR  SF       78          1454              \n",
              "191 NBA    Gerald Henderson POR  SG       72          1434              \n",
              "244 NBA    Chris Kaman      POR  C        16           113              \n",
              "265 NBA    Meyers Leonard   POR  C        61          1331              \n",
              "267 NBA    Damian Lillard   POR  PG       75          2673              \n",
              "288 NBA    C.j. Mccollum    POR  SG       80          2776              \n",
              "311 NBA    Luis Montero     POR  SG       12            43              \n",
              "357 NBA    Mason Plumlee    POR  PF       82          2087              \n",
              "375 NBA    Brian Roberts    POR  PG       51           474              \n",
              "441 NBA    Noah Vonleh      POR  PF       78          1173              \n",
              "    FieldGoalsMade FieldGoalsAttempted ThreesMade ThreesAttempted ⋯ Steals\n",
              "8     5              10                  0          0             ⋯  1    \n",
              "11  299             719                126        349             ⋯ 72    \n",
              "95   13              49                  5         21             ⋯  2    \n",
              "100 312             678                112        284             ⋯ 63    \n",
              "109 206             337                  0          0             ⋯ 57    \n",
              "179 195             411                 39        140             ⋯ 49    \n",
              "191 232             529                 48        137             ⋯ 39    \n",
              "244  20              43                  1          4             ⋯  1    \n",
              "265 194             434                 86        228             ⋯  8    \n",
              "267 618            1474                229        610             ⋯ 65    \n",
              "288 641            1432                197        473             ⋯ 97    \n",
              "311   5              19                  1          9             ⋯  0    \n",
              "357 267             517                  0          4             ⋯ 68    \n",
              "375  74             165                 15         42             ⋯ 10    \n",
              "441 117             279                 11         47             ⋯ 27    \n",
              "    Turnovers Blocks PersonalFouls Disqualifications TotalPoints Technicals\n",
              "8     1        2       1           0                   10        0         \n",
              "11  120       53     171           0                  839        3         \n",
              "95   10        0       6           0                   36        0         \n",
              "100  64       16     192           2                  834        0         \n",
              "109  64       72     202           2                  526        2         \n",
              "179  62       35     124           0                  498        1         \n",
              "191  68       19      87           0                  624        2         \n",
              "244   8        1      15           0                   44        0         \n",
              "265  77       18     183           3                  509        2         \n",
              "267 242       28     165           0                 1879        1         \n",
              "288 196       24     187           0                 1666        0         \n",
              "311   4        0       1           0                   14        0         \n",
              "357 154       82     253           4                  749        1         \n",
              "375  23        2      35           0                  205        0         \n",
              "441  50       26     152           1                  283        0         \n",
              "    Ejections FlagrantFouls GamesStarted\n",
              "8   0         0              0          \n",
              "11  0         0             82          \n",
              "95  0         0              0          \n",
              "100 0         0              8          \n",
              "109 0         0              0          \n",
              "179 0         0             14          \n",
              "191 0         0              0          \n",
              "244 0         0              2          \n",
              "265 0         0             10          \n",
              "267 0         0             75          \n",
              "288 0         0             80          \n",
              "311 0         0              0          \n",
              "357 0         0             82          \n",
              "375 0         0              0          \n",
              "441 0         0             56          "
            ],
            "text/latex": "A data.frame: 15 × 25\n\\begin{tabular}{r|lllllllllllllllllllll}\n  & League & Name & Team & Position & GamesPlayed & TotalMinutesPlayed & FieldGoalsMade & FieldGoalsAttempted & ThreesMade & ThreesAttempted & ⋯ & Steals & Turnovers & Blocks & PersonalFouls & Disqualifications & TotalPoints & Technicals & Ejections & FlagrantFouls & GamesStarted\\\\\n  & <fct> & <chr> & <fct> & <fct> & <int> & <int> & <int> & <int> & <int> & <int> & ⋯ & <int> & <int> & <int> & <int> & <int> & <int> & <int> & <int> & <int> & <int>\\\\\n\\hline\n\t8 & NBA & Cliff Alexander  & POR & PF &  9 &   37 &   5 &   10 &   0 &   0 & ⋯ &  1 &   1 &  2 &   1 & 0 &   10 & 0 & 0 & 0 &  0\\\\\n\t11 & NBA & Al-farouq Aminu  & POR & SF & 82 & 2342 & 299 &  719 & 126 & 349 & ⋯ & 72 & 120 & 53 & 171 & 0 &  839 & 3 & 0 & 0 & 82\\\\\n\t95 & NBA & Pat Connaughton  & POR & SG & 34 &  147 &  13 &   49 &   5 &  21 & ⋯ &  2 &  10 &  0 &   6 & 0 &   36 & 0 & 0 & 0 &  0\\\\\n\t100 & NBA & Allen Crabbe     & POR & SF & 81 & 2111 & 312 &  678 & 112 & 284 & ⋯ & 63 &  64 & 16 & 192 & 2 &  834 & 0 & 0 & 0 &  8\\\\\n\t109 & NBA & Ed Davis         & POR & PF & 81 & 1684 & 206 &  337 &   0 &   0 & ⋯ & 57 &  64 & 72 & 202 & 2 &  526 & 2 & 0 & 0 &  0\\\\\n\t179 & NBA & Maurice Harkless & POR & SF & 78 & 1454 & 195 &  411 &  39 & 140 & ⋯ & 49 &  62 & 35 & 124 & 0 &  498 & 1 & 0 & 0 & 14\\\\\n\t191 & NBA & Gerald Henderson & POR & SG & 72 & 1434 & 232 &  529 &  48 & 137 & ⋯ & 39 &  68 & 19 &  87 & 0 &  624 & 2 & 0 & 0 &  0\\\\\n\t244 & NBA & Chris Kaman      & POR & C  & 16 &  113 &  20 &   43 &   1 &   4 & ⋯ &  1 &   8 &  1 &  15 & 0 &   44 & 0 & 0 & 0 &  2\\\\\n\t265 & NBA & Meyers Leonard   & POR & C  & 61 & 1331 & 194 &  434 &  86 & 228 & ⋯ &  8 &  77 & 18 & 183 & 3 &  509 & 2 & 0 & 0 & 10\\\\\n\t267 & NBA & Damian Lillard   & POR & PG & 75 & 2673 & 618 & 1474 & 229 & 610 & ⋯ & 65 & 242 & 28 & 165 & 0 & 1879 & 1 & 0 & 0 & 75\\\\\n\t288 & NBA & C.j. Mccollum    & POR & SG & 80 & 2776 & 641 & 1432 & 197 & 473 & ⋯ & 97 & 196 & 24 & 187 & 0 & 1666 & 0 & 0 & 0 & 80\\\\\n\t311 & NBA & Luis Montero     & POR & SG & 12 &   43 &   5 &   19 &   1 &   9 & ⋯ &  0 &   4 &  0 &   1 & 0 &   14 & 0 & 0 & 0 &  0\\\\\n\t357 & NBA & Mason Plumlee    & POR & PF & 82 & 2087 & 267 &  517 &   0 &   4 & ⋯ & 68 & 154 & 82 & 253 & 4 &  749 & 1 & 0 & 0 & 82\\\\\n\t375 & NBA & Brian Roberts    & POR & PG & 51 &  474 &  74 &  165 &  15 &  42 & ⋯ & 10 &  23 &  2 &  35 & 0 &  205 & 0 & 0 & 0 &  0\\\\\n\t441 & NBA & Noah Vonleh      & POR & PF & 78 & 1173 & 117 &  279 &  11 &  47 & ⋯ & 27 &  50 & 26 & 152 & 1 &  283 & 0 & 0 & 0 & 56\\\\\n\\end{tabular}\n",
            "text/markdown": "\nA data.frame: 15 × 25\n\n| <!--/--> | League &lt;fct&gt; | Name &lt;chr&gt; | Team &lt;fct&gt; | Position &lt;fct&gt; | GamesPlayed &lt;int&gt; | TotalMinutesPlayed &lt;int&gt; | FieldGoalsMade &lt;int&gt; | FieldGoalsAttempted &lt;int&gt; | ThreesMade &lt;int&gt; | ThreesAttempted &lt;int&gt; | ⋯ ⋯ | Steals &lt;int&gt; | Turnovers &lt;int&gt; | Blocks &lt;int&gt; | PersonalFouls &lt;int&gt; | Disqualifications &lt;int&gt; | TotalPoints &lt;int&gt; | Technicals &lt;int&gt; | Ejections &lt;int&gt; | FlagrantFouls &lt;int&gt; | GamesStarted &lt;int&gt; |\n|---|---|---|---|---|---|---|---|---|---|---|---|---|---|---|---|---|---|---|---|---|---|\n| 8 | NBA | Cliff Alexander  | POR | PF |  9 |   37 |   5 |   10 |   0 |   0 | ⋯ |  1 |   1 |  2 |   1 | 0 |   10 | 0 | 0 | 0 |  0 |\n| 11 | NBA | Al-farouq Aminu  | POR | SF | 82 | 2342 | 299 |  719 | 126 | 349 | ⋯ | 72 | 120 | 53 | 171 | 0 |  839 | 3 | 0 | 0 | 82 |\n| 95 | NBA | Pat Connaughton  | POR | SG | 34 |  147 |  13 |   49 |   5 |  21 | ⋯ |  2 |  10 |  0 |   6 | 0 |   36 | 0 | 0 | 0 |  0 |\n| 100 | NBA | Allen Crabbe     | POR | SF | 81 | 2111 | 312 |  678 | 112 | 284 | ⋯ | 63 |  64 | 16 | 192 | 2 |  834 | 0 | 0 | 0 |  8 |\n| 109 | NBA | Ed Davis         | POR | PF | 81 | 1684 | 206 |  337 |   0 |   0 | ⋯ | 57 |  64 | 72 | 202 | 2 |  526 | 2 | 0 | 0 |  0 |\n| 179 | NBA | Maurice Harkless | POR | SF | 78 | 1454 | 195 |  411 |  39 | 140 | ⋯ | 49 |  62 | 35 | 124 | 0 |  498 | 1 | 0 | 0 | 14 |\n| 191 | NBA | Gerald Henderson | POR | SG | 72 | 1434 | 232 |  529 |  48 | 137 | ⋯ | 39 |  68 | 19 |  87 | 0 |  624 | 2 | 0 | 0 |  0 |\n| 244 | NBA | Chris Kaman      | POR | C  | 16 |  113 |  20 |   43 |   1 |   4 | ⋯ |  1 |   8 |  1 |  15 | 0 |   44 | 0 | 0 | 0 |  2 |\n| 265 | NBA | Meyers Leonard   | POR | C  | 61 | 1331 | 194 |  434 |  86 | 228 | ⋯ |  8 |  77 | 18 | 183 | 3 |  509 | 2 | 0 | 0 | 10 |\n| 267 | NBA | Damian Lillard   | POR | PG | 75 | 2673 | 618 | 1474 | 229 | 610 | ⋯ | 65 | 242 | 28 | 165 | 0 | 1879 | 1 | 0 | 0 | 75 |\n| 288 | NBA | C.j. Mccollum    | POR | SG | 80 | 2776 | 641 | 1432 | 197 | 473 | ⋯ | 97 | 196 | 24 | 187 | 0 | 1666 | 0 | 0 | 0 | 80 |\n| 311 | NBA | Luis Montero     | POR | SG | 12 |   43 |   5 |   19 |   1 |   9 | ⋯ |  0 |   4 |  0 |   1 | 0 |   14 | 0 | 0 | 0 |  0 |\n| 357 | NBA | Mason Plumlee    | POR | PF | 82 | 2087 | 267 |  517 |   0 |   4 | ⋯ | 68 | 154 | 82 | 253 | 4 |  749 | 1 | 0 | 0 | 82 |\n| 375 | NBA | Brian Roberts    | POR | PG | 51 |  474 |  74 |  165 |  15 |  42 | ⋯ | 10 |  23 |  2 |  35 | 0 |  205 | 0 | 0 | 0 |  0 |\n| 441 | NBA | Noah Vonleh      | POR | PF | 78 | 1173 | 117 |  279 |  11 |  47 | ⋯ | 27 |  50 | 26 | 152 | 1 |  283 | 0 | 0 | 0 | 56 |\n\n",
            "text/html": [
              "<table class=\"dataframe\">\n",
              "<caption>A data.frame: 15 × 25</caption>\n",
              "<thead>\n",
              "\t<tr><th></th><th scope=col>League</th><th scope=col>Name</th><th scope=col>Team</th><th scope=col>Position</th><th scope=col>GamesPlayed</th><th scope=col>TotalMinutesPlayed</th><th scope=col>FieldGoalsMade</th><th scope=col>FieldGoalsAttempted</th><th scope=col>ThreesMade</th><th scope=col>ThreesAttempted</th><th scope=col>⋯</th><th scope=col>Steals</th><th scope=col>Turnovers</th><th scope=col>Blocks</th><th scope=col>PersonalFouls</th><th scope=col>Disqualifications</th><th scope=col>TotalPoints</th><th scope=col>Technicals</th><th scope=col>Ejections</th><th scope=col>FlagrantFouls</th><th scope=col>GamesStarted</th></tr>\n",
              "\t<tr><th></th><th scope=col>&lt;fct&gt;</th><th scope=col>&lt;chr&gt;</th><th scope=col>&lt;fct&gt;</th><th scope=col>&lt;fct&gt;</th><th scope=col>&lt;int&gt;</th><th scope=col>&lt;int&gt;</th><th scope=col>&lt;int&gt;</th><th scope=col>&lt;int&gt;</th><th scope=col>&lt;int&gt;</th><th scope=col>&lt;int&gt;</th><th scope=col>⋯</th><th scope=col>&lt;int&gt;</th><th scope=col>&lt;int&gt;</th><th scope=col>&lt;int&gt;</th><th scope=col>&lt;int&gt;</th><th scope=col>&lt;int&gt;</th><th scope=col>&lt;int&gt;</th><th scope=col>&lt;int&gt;</th><th scope=col>&lt;int&gt;</th><th scope=col>&lt;int&gt;</th><th scope=col>&lt;int&gt;</th></tr>\n",
              "</thead>\n",
              "<tbody>\n",
              "\t<tr><th scope=row>8</th><td>NBA</td><td>Cliff Alexander </td><td>POR</td><td>PF</td><td> 9</td><td>  37</td><td>  5</td><td>  10</td><td>  0</td><td>  0</td><td>⋯</td><td> 1</td><td>  1</td><td> 2</td><td>  1</td><td>0</td><td>  10</td><td>0</td><td>0</td><td>0</td><td> 0</td></tr>\n",
              "\t<tr><th scope=row>11</th><td>NBA</td><td>Al-farouq Aminu </td><td>POR</td><td>SF</td><td>82</td><td>2342</td><td>299</td><td> 719</td><td>126</td><td>349</td><td>⋯</td><td>72</td><td>120</td><td>53</td><td>171</td><td>0</td><td> 839</td><td>3</td><td>0</td><td>0</td><td>82</td></tr>\n",
              "\t<tr><th scope=row>95</th><td>NBA</td><td>Pat Connaughton </td><td>POR</td><td>SG</td><td>34</td><td> 147</td><td> 13</td><td>  49</td><td>  5</td><td> 21</td><td>⋯</td><td> 2</td><td> 10</td><td> 0</td><td>  6</td><td>0</td><td>  36</td><td>0</td><td>0</td><td>0</td><td> 0</td></tr>\n",
              "\t<tr><th scope=row>100</th><td>NBA</td><td>Allen Crabbe    </td><td>POR</td><td>SF</td><td>81</td><td>2111</td><td>312</td><td> 678</td><td>112</td><td>284</td><td>⋯</td><td>63</td><td> 64</td><td>16</td><td>192</td><td>2</td><td> 834</td><td>0</td><td>0</td><td>0</td><td> 8</td></tr>\n",
              "\t<tr><th scope=row>109</th><td>NBA</td><td>Ed Davis        </td><td>POR</td><td>PF</td><td>81</td><td>1684</td><td>206</td><td> 337</td><td>  0</td><td>  0</td><td>⋯</td><td>57</td><td> 64</td><td>72</td><td>202</td><td>2</td><td> 526</td><td>2</td><td>0</td><td>0</td><td> 0</td></tr>\n",
              "\t<tr><th scope=row>179</th><td>NBA</td><td>Maurice Harkless</td><td>POR</td><td>SF</td><td>78</td><td>1454</td><td>195</td><td> 411</td><td> 39</td><td>140</td><td>⋯</td><td>49</td><td> 62</td><td>35</td><td>124</td><td>0</td><td> 498</td><td>1</td><td>0</td><td>0</td><td>14</td></tr>\n",
              "\t<tr><th scope=row>191</th><td>NBA</td><td>Gerald Henderson</td><td>POR</td><td>SG</td><td>72</td><td>1434</td><td>232</td><td> 529</td><td> 48</td><td>137</td><td>⋯</td><td>39</td><td> 68</td><td>19</td><td> 87</td><td>0</td><td> 624</td><td>2</td><td>0</td><td>0</td><td> 0</td></tr>\n",
              "\t<tr><th scope=row>244</th><td>NBA</td><td>Chris Kaman     </td><td>POR</td><td>C </td><td>16</td><td> 113</td><td> 20</td><td>  43</td><td>  1</td><td>  4</td><td>⋯</td><td> 1</td><td>  8</td><td> 1</td><td> 15</td><td>0</td><td>  44</td><td>0</td><td>0</td><td>0</td><td> 2</td></tr>\n",
              "\t<tr><th scope=row>265</th><td>NBA</td><td>Meyers Leonard  </td><td>POR</td><td>C </td><td>61</td><td>1331</td><td>194</td><td> 434</td><td> 86</td><td>228</td><td>⋯</td><td> 8</td><td> 77</td><td>18</td><td>183</td><td>3</td><td> 509</td><td>2</td><td>0</td><td>0</td><td>10</td></tr>\n",
              "\t<tr><th scope=row>267</th><td>NBA</td><td>Damian Lillard  </td><td>POR</td><td>PG</td><td>75</td><td>2673</td><td>618</td><td>1474</td><td>229</td><td>610</td><td>⋯</td><td>65</td><td>242</td><td>28</td><td>165</td><td>0</td><td>1879</td><td>1</td><td>0</td><td>0</td><td>75</td></tr>\n",
              "\t<tr><th scope=row>288</th><td>NBA</td><td>C.j. Mccollum   </td><td>POR</td><td>SG</td><td>80</td><td>2776</td><td>641</td><td>1432</td><td>197</td><td>473</td><td>⋯</td><td>97</td><td>196</td><td>24</td><td>187</td><td>0</td><td>1666</td><td>0</td><td>0</td><td>0</td><td>80</td></tr>\n",
              "\t<tr><th scope=row>311</th><td>NBA</td><td>Luis Montero    </td><td>POR</td><td>SG</td><td>12</td><td>  43</td><td>  5</td><td>  19</td><td>  1</td><td>  9</td><td>⋯</td><td> 0</td><td>  4</td><td> 0</td><td>  1</td><td>0</td><td>  14</td><td>0</td><td>0</td><td>0</td><td> 0</td></tr>\n",
              "\t<tr><th scope=row>357</th><td>NBA</td><td>Mason Plumlee   </td><td>POR</td><td>PF</td><td>82</td><td>2087</td><td>267</td><td> 517</td><td>  0</td><td>  4</td><td>⋯</td><td>68</td><td>154</td><td>82</td><td>253</td><td>4</td><td> 749</td><td>1</td><td>0</td><td>0</td><td>82</td></tr>\n",
              "\t<tr><th scope=row>375</th><td>NBA</td><td>Brian Roberts   </td><td>POR</td><td>PG</td><td>51</td><td> 474</td><td> 74</td><td> 165</td><td> 15</td><td> 42</td><td>⋯</td><td>10</td><td> 23</td><td> 2</td><td> 35</td><td>0</td><td> 205</td><td>0</td><td>0</td><td>0</td><td> 0</td></tr>\n",
              "\t<tr><th scope=row>441</th><td>NBA</td><td>Noah Vonleh     </td><td>POR</td><td>PF</td><td>78</td><td>1173</td><td>117</td><td> 279</td><td> 11</td><td> 47</td><td>⋯</td><td>27</td><td> 50</td><td>26</td><td>152</td><td>1</td><td> 283</td><td>0</td><td>0</td><td>0</td><td>56</td></tr>\n",
              "</tbody>\n",
              "</table>\n"
            ]
          },
          "metadata": {
            "tags": []
          }
        }
      ]
    },
    {
      "cell_type": "code",
      "metadata": {
        "colab": {
          "base_uri": "https://localhost:8080/",
          "height": 213
        },
        "id": "tlOOpoQBYnDQ",
        "outputId": "7075a8ca-4cfb-4947-f83f-55e1c061639e"
      },
      "source": [
        "NBA1516[grepl(\"Curry\",NBA1516$Name),]"
      ],
      "execution_count": 49,
      "outputs": [
        {
          "output_type": "display_data",
          "data": {
            "text/plain": [
              "    League Name          Team Position GamesPlayed TotalMinutesPlayed\n",
              "105 NBA    Seth Curry    SAC  SG       44           694              \n",
              "106 NBA    Stephen Curry GSW  PG       79          2705              \n",
              "    FieldGoalsMade FieldGoalsAttempted ThreesMade ThreesAttempted ⋯ Steals\n",
              "105 102             224                 50        111             ⋯  22   \n",
              "106 805            1597                402        887             ⋯ 169   \n",
              "    Turnovers Blocks PersonalFouls Disqualifications TotalPoints Technicals\n",
              "105  36        3      41           0                  299        0         \n",
              "106 261       16     161           0                 2375        1         \n",
              "    Ejections FlagrantFouls GamesStarted\n",
              "105 0         0              9          \n",
              "106 0         0             79          "
            ],
            "text/latex": "A data.frame: 2 × 25\n\\begin{tabular}{r|lllllllllllllllllllll}\n  & League & Name & Team & Position & GamesPlayed & TotalMinutesPlayed & FieldGoalsMade & FieldGoalsAttempted & ThreesMade & ThreesAttempted & ⋯ & Steals & Turnovers & Blocks & PersonalFouls & Disqualifications & TotalPoints & Technicals & Ejections & FlagrantFouls & GamesStarted\\\\\n  & <fct> & <chr> & <fct> & <fct> & <int> & <int> & <int> & <int> & <int> & <int> & ⋯ & <int> & <int> & <int> & <int> & <int> & <int> & <int> & <int> & <int> & <int>\\\\\n\\hline\n\t105 & NBA & Seth Curry    & SAC & SG & 44 &  694 & 102 &  224 &  50 & 111 & ⋯ &  22 &  36 &  3 &  41 & 0 &  299 & 0 & 0 & 0 &  9\\\\\n\t106 & NBA & Stephen Curry & GSW & PG & 79 & 2705 & 805 & 1597 & 402 & 887 & ⋯ & 169 & 261 & 16 & 161 & 0 & 2375 & 1 & 0 & 0 & 79\\\\\n\\end{tabular}\n",
            "text/markdown": "\nA data.frame: 2 × 25\n\n| <!--/--> | League &lt;fct&gt; | Name &lt;chr&gt; | Team &lt;fct&gt; | Position &lt;fct&gt; | GamesPlayed &lt;int&gt; | TotalMinutesPlayed &lt;int&gt; | FieldGoalsMade &lt;int&gt; | FieldGoalsAttempted &lt;int&gt; | ThreesMade &lt;int&gt; | ThreesAttempted &lt;int&gt; | ⋯ ⋯ | Steals &lt;int&gt; | Turnovers &lt;int&gt; | Blocks &lt;int&gt; | PersonalFouls &lt;int&gt; | Disqualifications &lt;int&gt; | TotalPoints &lt;int&gt; | Technicals &lt;int&gt; | Ejections &lt;int&gt; | FlagrantFouls &lt;int&gt; | GamesStarted &lt;int&gt; |\n|---|---|---|---|---|---|---|---|---|---|---|---|---|---|---|---|---|---|---|---|---|---|\n| 105 | NBA | Seth Curry    | SAC | SG | 44 |  694 | 102 |  224 |  50 | 111 | ⋯ |  22 |  36 |  3 |  41 | 0 |  299 | 0 | 0 | 0 |  9 |\n| 106 | NBA | Stephen Curry | GSW | PG | 79 | 2705 | 805 | 1597 | 402 | 887 | ⋯ | 169 | 261 | 16 | 161 | 0 | 2375 | 1 | 0 | 0 | 79 |\n\n",
            "text/html": [
              "<table class=\"dataframe\">\n",
              "<caption>A data.frame: 2 × 25</caption>\n",
              "<thead>\n",
              "\t<tr><th></th><th scope=col>League</th><th scope=col>Name</th><th scope=col>Team</th><th scope=col>Position</th><th scope=col>GamesPlayed</th><th scope=col>TotalMinutesPlayed</th><th scope=col>FieldGoalsMade</th><th scope=col>FieldGoalsAttempted</th><th scope=col>ThreesMade</th><th scope=col>ThreesAttempted</th><th scope=col>⋯</th><th scope=col>Steals</th><th scope=col>Turnovers</th><th scope=col>Blocks</th><th scope=col>PersonalFouls</th><th scope=col>Disqualifications</th><th scope=col>TotalPoints</th><th scope=col>Technicals</th><th scope=col>Ejections</th><th scope=col>FlagrantFouls</th><th scope=col>GamesStarted</th></tr>\n",
              "\t<tr><th></th><th scope=col>&lt;fct&gt;</th><th scope=col>&lt;chr&gt;</th><th scope=col>&lt;fct&gt;</th><th scope=col>&lt;fct&gt;</th><th scope=col>&lt;int&gt;</th><th scope=col>&lt;int&gt;</th><th scope=col>&lt;int&gt;</th><th scope=col>&lt;int&gt;</th><th scope=col>&lt;int&gt;</th><th scope=col>&lt;int&gt;</th><th scope=col>⋯</th><th scope=col>&lt;int&gt;</th><th scope=col>&lt;int&gt;</th><th scope=col>&lt;int&gt;</th><th scope=col>&lt;int&gt;</th><th scope=col>&lt;int&gt;</th><th scope=col>&lt;int&gt;</th><th scope=col>&lt;int&gt;</th><th scope=col>&lt;int&gt;</th><th scope=col>&lt;int&gt;</th><th scope=col>&lt;int&gt;</th></tr>\n",
              "</thead>\n",
              "<tbody>\n",
              "\t<tr><th scope=row>105</th><td>NBA</td><td>Seth Curry   </td><td>SAC</td><td>SG</td><td>44</td><td> 694</td><td>102</td><td> 224</td><td> 50</td><td>111</td><td>⋯</td><td> 22</td><td> 36</td><td> 3</td><td> 41</td><td>0</td><td> 299</td><td>0</td><td>0</td><td>0</td><td> 9</td></tr>\n",
              "\t<tr><th scope=row>106</th><td>NBA</td><td>Stephen Curry</td><td>GSW</td><td>PG</td><td>79</td><td>2705</td><td>805</td><td>1597</td><td>402</td><td>887</td><td>⋯</td><td>169</td><td>261</td><td>16</td><td>161</td><td>0</td><td>2375</td><td>1</td><td>0</td><td>0</td><td>79</td></tr>\n",
              "</tbody>\n",
              "</table>\n"
            ]
          },
          "metadata": {
            "tags": []
          }
        }
      ]
    }
  ]
}